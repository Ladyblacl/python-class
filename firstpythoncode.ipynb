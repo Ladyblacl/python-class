{
 "cells": [
  {
   "cell_type": "markdown",
   "id": "a1f8451e-54cd-4cf6-9d5a-fcac2e2396b3",
   "metadata": {},
   "source": [
    "# mary\n",
    "## mary\n",
    "### mary\n",
    "#### mary"
   ]
  },
  {
   "cell_type": "code",
   "execution_count": 1,
   "id": "bb719df9-0679-4654-88ed-6a7a5720f8ea",
   "metadata": {},
   "outputs": [
    {
     "name": "stdout",
     "output_type": "stream",
     "text": [
      "hello world\n"
     ]
    }
   ],
   "source": [
    "print(\"hello world\")"
   ]
  },
  {
   "cell_type": "code",
   "execution_count": null,
   "id": "69155a9d-ffaa-4b61-a905-1eefd314e49a",
   "metadata": {},
   "outputs": [],
   "source": []
  },
  {
   "cell_type": "code",
   "execution_count": null,
   "id": "eecd2d01-75dd-4b68-bcc2-79231b5c4e17",
   "metadata": {},
   "outputs": [],
   "source": []
  },
  {
   "cell_type": "code",
   "execution_count": null,
   "id": "3869ba31-4ff9-4499-a3c5-126e03ea0a34",
   "metadata": {},
   "outputs": [],
   "source": []
  }
 ],
 "metadata": {
  "kernelspec": {
   "display_name": "anaconda-panel-2023.05-py310",
   "language": "python",
   "name": "conda-env-anaconda-panel-2023.05-py310-py"
  },
  "language_info": {
   "codemirror_mode": {
    "name": "ipython",
    "version": 3
   },
   "file_extension": ".py",
   "mimetype": "text/x-python",
   "name": "python",
   "nbconvert_exporter": "python",
   "pygments_lexer": "ipython3",
   "version": "3.11.5"
  }
 },
 "nbformat": 4,
 "nbformat_minor": 5
}
