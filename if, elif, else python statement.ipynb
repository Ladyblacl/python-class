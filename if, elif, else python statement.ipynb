{
 "cells": [
  {
   "cell_type": "code",
   "execution_count": 4,
   "id": "d4c308b9-c251-4203-92c6-d2324c9e2c94",
   "metadata": {},
   "outputs": [
    {
     "name": "stdout",
     "output_type": "stream",
     "text": [
      "totally wrong\n"
     ]
    }
   ],
   "source": [
    "result = False\n",
    "if result:\n",
    "    print(\"print it is negative\")\n",
    "else:\n",
    "    print(\"totally wrong\")"
   ]
  },
  {
   "cell_type": "code",
   "execution_count": 7,
   "id": "4e4c5781-8a92-4b70-9cc2-f53c75e94c5d",
   "metadata": {},
   "outputs": [
    {
     "name": "stdin",
     "output_type": "stream",
     "text": [
      "please enter the location: atm\n"
     ]
    },
    {
     "name": "stdout",
     "output_type": "stream",
     "text": [
      "your location is: atm\n",
      "invalid location\n"
     ]
    }
   ],
   "source": [
    "loc = input(\"please enter the location:\")\n",
    "print(f\"your location is: {loc}\")\n",
    "if loc == \"pos\":\n",
    "    print(\"welcome to tterminal\")\n",
    "elif loc== \"bank\":\n",
    "    print(\"welcome to bank\")\n",
    "else:\n",
    "    print(\"invalid location\")\n"
   ]
  },
  {
   "cell_type": "code",
   "execution_count": 4,
   "id": "81dfeb58-0bd2-47e3-869a-647f236c6dac",
   "metadata": {},
   "outputs": [
    {
     "name": "stdin",
     "output_type": "stream",
     "text": [
      "the number is: 0\n"
     ]
    },
    {
     "name": "stdout",
     "output_type": "stream",
     "text": [
      "the user is neutral\n"
     ]
    }
   ],
   "source": [
    "user = int(input(\"the number is:\"))\n",
    "\n",
    "if user == 0:\n",
    "    print(\"the user is neutral\")\n",
    "elif user > 0:\n",
    "    print(\"the user is positve\")\n",
    "else:\n",
    "    print(\"the user is negative\")"
   ]
  },
  {
   "cell_type": "code",
   "execution_count": null,
   "id": "db7b38c7-23e1-4916-910a-470f4386e29e",
   "metadata": {},
   "outputs": [],
   "source": []
  },
  {
   "cell_type": "code",
   "execution_count": null,
   "id": "a61d5f16-b29d-4f1d-b681-82c0fdaffaf6",
   "metadata": {},
   "outputs": [],
   "source": []
  },
  {
   "cell_type": "code",
   "execution_count": null,
   "id": "aa978d8b-59ab-4e42-be35-ebf545611d9b",
   "metadata": {},
   "outputs": [],
   "source": []
  },
  {
   "cell_type": "code",
   "execution_count": null,
   "id": "376298b2-e5f1-4298-9097-f59ad6920e41",
   "metadata": {},
   "outputs": [],
   "source": []
  },
  {
   "cell_type": "code",
   "execution_count": null,
   "id": "3cd256aa-4e1e-47b2-9c47-26242a7b1a78",
   "metadata": {},
   "outputs": [],
   "source": []
  },
  {
   "cell_type": "code",
   "execution_count": null,
   "id": "e5bdb1a5-9be3-4fbb-ac68-aaa3e1cf7875",
   "metadata": {},
   "outputs": [],
   "source": []
  },
  {
   "cell_type": "code",
   "execution_count": null,
   "id": "e34becca-87bf-4ec9-af74-e58002bccd05",
   "metadata": {},
   "outputs": [],
   "source": []
  },
  {
   "cell_type": "code",
   "execution_count": null,
   "id": "2fd7665a-257f-4dcf-b9d5-39785dde70cd",
   "metadata": {},
   "outputs": [],
   "source": []
  },
  {
   "cell_type": "code",
   "execution_count": null,
   "id": "229cb5e9-112b-40f3-a227-71ad5a262632",
   "metadata": {},
   "outputs": [],
   "source": []
  }
 ],
 "metadata": {
  "kernelspec": {
   "display_name": "anaconda-panel-2023.05-py310",
   "language": "python",
   "name": "conda-env-anaconda-panel-2023.05-py310-py"
  },
  "language_info": {
   "codemirror_mode": {
    "name": "ipython",
    "version": 3
   },
   "file_extension": ".py",
   "mimetype": "text/x-python",
   "name": "python",
   "nbconvert_exporter": "python",
   "pygments_lexer": "ipython3",
   "version": "3.11.5"
  }
 },
 "nbformat": 4,
 "nbformat_minor": 5
}
