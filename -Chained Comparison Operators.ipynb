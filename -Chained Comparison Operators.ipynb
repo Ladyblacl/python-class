{
 "cells": [
  {
   "cell_type": "markdown",
   "id": "791c1bbd-4854-4786-bd53-de2a07a47190",
   "metadata": {},
   "source": [
    "___\n",
    "\n",
    "<a href='https://www.youtube.com/@TechWithDaveworld'><img src='../TechWithDaveworldLogo.png'/></a>\n",
    "___\n",
    "<center><em>Content Copyright by Tech With Daveworld</em></center>"
   ]
  },
  {
   "cell_type": "code",
   "execution_count": 1,
   "id": "447e5fdb-71ae-4f88-a495-466948acda85",
   "metadata": {},
   "outputs": [
    {
     "data": {
      "text/plain": [
       "True"
      ]
     },
     "execution_count": 1,
     "metadata": {},
     "output_type": "execute_result"
    }
   ],
   "source": [
    "1 < 2 < 3"
   ]
  },
  {
   "cell_type": "code",
   "execution_count": 3,
   "id": "e9a10638-5ca1-4111-a7b3-a3d0d5f6df2c",
   "metadata": {},
   "outputs": [
    {
     "data": {
      "text/plain": [
       "True"
      ]
     },
     "execution_count": 3,
     "metadata": {},
     "output_type": "execute_result"
    }
   ],
   "source": [
    "1 < 2 and 2 < 3\n",
    "\n",
    "# Breaking this down would be\n",
    "# 1 < 2 -> True\n",
    "# 2 < 3 -> True\n",
    "# True and True -> True"
   ]
  },
  {
   "cell_type": "code",
   "execution_count": 7,
   "id": "78f76363-0e84-4c1a-adaf-0b0e797a9696",
   "metadata": {},
   "outputs": [
    {
     "data": {
      "text/plain": [
       "False"
      ]
     },
     "execution_count": 7,
     "metadata": {},
     "output_type": "execute_result"
    }
   ],
   "source": [
    "2 > 3 and 2 > 1\n",
    "\n",
    "# Breaking this down would be\n",
    "# 2 > 3 -> False\n",
    "# 2 > 1 -> True\n",
    "# False and True -> False"
   ]
  },
  {
   "cell_type": "code",
   "execution_count": 9,
   "id": "028481a0-4dfc-4755-bf72-f86a6b70f757",
   "metadata": {},
   "outputs": [
    {
     "data": {
      "text/plain": [
       "True"
      ]
     },
     "execution_count": 9,
     "metadata": {},
     "output_type": "execute_result"
    }
   ],
   "source": [
    "2 > 3 or 2 > 1\n",
    "\n",
    "# Breaking this down would be\n",
    "# 2 > 3 -> False\n",
    "# 2 > 1 -> True\n",
    "# False or True -> True"
   ]
  },
  {
   "cell_type": "code",
   "execution_count": 11,
   "id": "6c040b14-5fce-405f-8fe5-9b375556b92b",
   "metadata": {},
   "outputs": [
    {
     "data": {
      "text/plain": [
       "True"
      ]
     },
     "execution_count": 11,
     "metadata": {},
     "output_type": "execute_result"
    }
   ],
   "source": [
    "1 == 2 or 2 < 3\n",
    "\n",
    "# Breaking this down would be\n",
    "# 1 is equals to 2 -> False\n",
    "# 2 < 3 -> True\n",
    "# False or True -> True"
   ]
  },
  {
   "cell_type": "code",
   "execution_count": 13,
   "id": "676ae5ca-6172-4318-924b-69bceda84138",
   "metadata": {},
   "outputs": [
    {
     "data": {
      "text/plain": [
       "True"
      ]
     },
     "execution_count": 13,
     "metadata": {},
     "output_type": "execute_result"
    }
   ],
   "source": [
    "1 == 1 or 100 == 1"
   ]
  },
  {
   "cell_type": "code",
   "execution_count": 15,
   "id": "dd0301cf-1546-4481-a05c-f97bfbd616c5",
   "metadata": {},
   "outputs": [
    {
     "data": {
      "text/plain": [
       "False"
      ]
     },
     "execution_count": 15,
     "metadata": {},
     "output_type": "execute_result"
    }
   ],
   "source": [
    "# Write a code to check if a user is qualified to get admitted into the university\n",
    "\n",
    "user_age = 20\n",
    "\n",
    "# check if the user age is less than 16\n",
    "\n",
    "user_age < 16"
   ]
  },
  {
   "cell_type": "code",
   "execution_count": 23,
   "id": "74540959-3d25-46e6-bd46-565860f19f1b",
   "metadata": {},
   "outputs": [
    {
     "name": "stdin",
     "output_type": "stream",
     "text": [
      "Enter your age:  12\n"
     ]
    },
    {
     "name": "stdout",
     "output_type": "stream",
     "text": [
      "Your age is 12\n"
     ]
    }
   ],
   "source": [
    "user_age = int(input(\"Enter your age: \"))\n",
    "print(f'Your age is {user_age}')"
   ]
  },
  {
   "cell_type": "code",
   "execution_count": 25,
   "id": "1b498858-a2ef-43ff-b133-0d46bac22659",
   "metadata": {},
   "outputs": [
    {
     "data": {
      "text/plain": [
       "int"
      ]
     },
     "execution_count": 25,
     "metadata": {},
     "output_type": "execute_result"
    }
   ],
   "source": [
    "type(user_age)"
   ]
  },
  {
   "cell_type": "code",
   "execution_count": 31,
   "id": "a0701521-b21a-42d8-9e6b-8ff766374755",
   "metadata": {},
   "outputs": [
    {
     "name": "stdin",
     "output_type": "stream",
     "text": [
      "Enter your age:  22\n"
     ]
    },
    {
     "name": "stdout",
     "output_type": "stream",
     "text": [
      "Your age is 22\n",
      "Congrats! you can be admitted into our university\n"
     ]
    }
   ],
   "source": [
    "user_age = int(input(\"Enter your age: \"))\n",
    "print(f'Your age is {user_age}')\n",
    "\n",
    "if user_age < 16:\n",
    "    print(f\"Sorry you can't be admitted cause your are {user_age} and it's less than 16\")\n",
    "else:\n",
    "    print(\"Congrats! you can be admitted into our university\")"
   ]
  }
 ],
 "metadata": {
  "kernelspec": {
   "display_name": "anaconda-panel-2023.05-py310",
   "language": "python",
   "name": "conda-env-anaconda-panel-2023.05-py310-py"
  },
  "language_info": {
   "codemirror_mode": {
    "name": "ipython",
    "version": 3
   },
   "file_extension": ".py",
   "mimetype": "text/x-python",
   "name": "python",
   "nbconvert_exporter": "python",
   "pygments_lexer": "ipython3",
   "version": "3.11.5"
  }
 },
 "nbformat": 4,
 "nbformat_minor": 5
}
