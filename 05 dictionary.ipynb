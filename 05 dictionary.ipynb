{
 "cells": [
  {
   "cell_type": "markdown",
   "id": "5376a46d-738c-42c3-8af1-91bdbde0251b",
   "metadata": {},
   "source": [
    "# Dictionaries"
   ]
  },
  {
   "cell_type": "code",
   "execution_count": 1,
   "id": "a8da8ca4-86e8-494c-8a61-1c549a0e04a7",
   "metadata": {},
   "outputs": [],
   "source": [
    "my_dict = {\"key1\": \"value1\", \"key2\": \"value2\"}"
   ]
  },
  {
   "cell_type": "code",
   "execution_count": 2,
   "id": "4e8f12e8-51a2-42bf-9627-e142163c7981",
   "metadata": {},
   "outputs": [
    {
     "data": {
      "text/plain": [
       "{'key1': 'value1', 'key2': 'value2'}"
      ]
     },
     "execution_count": 2,
     "metadata": {},
     "output_type": "execute_result"
    }
   ],
   "source": [
    "my_dict"
   ]
  },
  {
   "cell_type": "code",
   "execution_count": 3,
   "id": "0df49688-a080-42d5-aa8b-8b7c2f4c1b7d",
   "metadata": {},
   "outputs": [
    {
     "data": {
      "text/plain": [
       "'value2'"
      ]
     },
     "execution_count": 3,
     "metadata": {},
     "output_type": "execute_result"
    }
   ],
   "source": [
    "my_dict[\"key2\"]"
   ]
  },
  {
   "cell_type": "code",
   "execution_count": 17,
   "id": "25bd06bc-f6a6-4b75-b8ab-87c6396b41d1",
   "metadata": {},
   "outputs": [],
   "source": [
    "my_dict = {\"key1\": 123, \"key2\": [12, 3, 23], \"key3\":[\"item0\", \"item1\", \"item2\"]}"
   ]
  },
  {
   "cell_type": "code",
   "execution_count": 19,
   "id": "a4ef715a-0ccc-42ab-90e1-4d4b81daa765",
   "metadata": {},
   "outputs": [
    {
     "data": {
      "text/plain": [
       "123"
      ]
     },
     "execution_count": 19,
     "metadata": {},
     "output_type": "execute_result"
    }
   ],
   "source": [
    "my_dict[\"key1\"]"
   ]
  },
  {
   "cell_type": "code",
   "execution_count": 22,
   "id": "cc294fa2-fd50-46f2-9853-b9a357d21939",
   "metadata": {},
   "outputs": [
    {
     "data": {
      "text/plain": [
       "'item0'"
      ]
     },
     "execution_count": 22,
     "metadata": {},
     "output_type": "execute_result"
    }
   ],
   "source": [
    "my_dict[\"key3\"][0]"
   ]
  },
  {
   "cell_type": "code",
   "execution_count": 23,
   "id": "1b00f0c9-d4a2-4b78-a604-8b5f720b874b",
   "metadata": {},
   "outputs": [
    {
     "data": {
      "text/plain": [
       "'ITEM0'"
      ]
     },
     "execution_count": 23,
     "metadata": {},
     "output_type": "execute_result"
    }
   ],
   "source": [
    "my_dict[\"key3\"][0].upper()"
   ]
  },
  {
   "cell_type": "code",
   "execution_count": 24,
   "id": "dc7031ae-9824-409d-b032-e05fe5645e57",
   "metadata": {},
   "outputs": [
    {
     "data": {
      "text/plain": [
       "'item0'"
      ]
     },
     "execution_count": 24,
     "metadata": {},
     "output_type": "execute_result"
    }
   ],
   "source": [
    "my_dict[\"key3\"][0]"
   ]
  },
  {
   "cell_type": "code",
   "execution_count": 28,
   "id": "61ff665c-2db8-410d-8b8b-893145eaf266",
   "metadata": {},
   "outputs": [],
   "source": [
    "my_dict[\"key1\"] += 200"
   ]
  },
  {
   "cell_type": "code",
   "execution_count": 26,
   "id": "a2f62e58-9b2c-4180-a26e-c6293c85f1ab",
   "metadata": {},
   "outputs": [
    {
     "data": {
      "text/plain": [
       "323"
      ]
     },
     "execution_count": 26,
     "metadata": {},
     "output_type": "execute_result"
    }
   ],
   "source": [
    "my_dict[\"key1\"]"
   ]
  },
  {
   "cell_type": "code",
   "execution_count": 27,
   "id": "bd2727aa-e067-4c2c-8f53-62a957abe977",
   "metadata": {},
   "outputs": [
    {
     "data": {
      "text/plain": [
       "523"
      ]
     },
     "execution_count": 27,
     "metadata": {},
     "output_type": "execute_result"
    }
   ],
   "source": [
    "my_dict[\"key1\"]+200"
   ]
  },
  {
   "cell_type": "code",
   "execution_count": null,
   "id": "98fee025-282a-4fb6-8807-7807bcada093",
   "metadata": {},
   "outputs": [],
   "source": []
  }
 ],
 "metadata": {
  "kernelspec": {
   "display_name": "anaconda-panel-2023.05-py310",
   "language": "python",
   "name": "conda-env-anaconda-panel-2023.05-py310-py"
  },
  "language_info": {
   "codemirror_mode": {
    "name": "ipython",
    "version": 3
   },
   "file_extension": ".py",
   "mimetype": "text/x-python",
   "name": "python",
   "nbconvert_exporter": "python",
   "pygments_lexer": "ipython3",
   "version": "3.11.5"
  }
 },
 "nbformat": 4,
 "nbformat_minor": 5
}
