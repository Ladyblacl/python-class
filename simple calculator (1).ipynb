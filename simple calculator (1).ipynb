{
 "cells": [
  {
   "cell_type": "markdown",
   "id": "ae96051a-7e59-4229-9776-8744fb2202a4",
   "metadata": {},
   "source": [
    "# Simple Calculator\n",
    "This is a basic Python console application that performs simple arithmetic operations: Addition, Subtraction, Multiplication, and Division. The user is prompted to input two numbers and select the desired operation. The result is then displayed in the console.\n",
    "\n",
    "## Features:\n",
    "User-friendly text interface\n",
    "\n",
    "Uses Python's built-in input/output functions\n",
    "\n",
    "No external libraries required\n",
    "\n",
    "## How to Run:\n",
    "Make sure Python is installed on your computer.\n",
    "\n",
    "Save the script in a file.\n",
    "\n",
    "Open a terminal or command prompt.\n",
    "\n",
    "Navigate to the folder containing the file\n",
    "\n",
    "Run the script\n",
    "\n",
    "Follow the on-screen instructions to perform a calculation."
   ]
  },
  {
   "cell_type": "code",
   "execution_count": 3,
   "id": "899f3365-0c6a-4646-908a-4c4cb99e3263",
   "metadata": {},
   "outputs": [],
   "source": [
    "def add(x,y):\n",
    "    return x+y\n",
    "\n",
    "def subtract(x,y):\n",
    "    return x-y\n",
    "\n",
    "def multiply(x,y):\n",
    "    return x*y\n",
    "\n",
    "def divide(x,y):\n",
    "    return x/y\n"
   ]
  },
  {
   "cell_type": "code",
   "execution_count": 4,
   "id": "93fc6f25-b38f-456b-a0b9-046a006186bf",
   "metadata": {},
   "outputs": [
    {
     "data": {
      "text/plain": [
       "5"
      ]
     },
     "execution_count": 4,
     "metadata": {},
     "output_type": "execute_result"
    }
   ],
   "source": [
    "add(2,3)\n"
   ]
  },
  {
   "cell_type": "code",
   "execution_count": 6,
   "id": "aa51c3e9-4fcd-4583-b87f-f618bf32f64f",
   "metadata": {},
   "outputs": [
    {
     "data": {
      "text/plain": [
       "-1"
      ]
     },
     "execution_count": 6,
     "metadata": {},
     "output_type": "execute_result"
    }
   ],
   "source": [
    "subtract(1,2)"
   ]
  },
  {
   "cell_type": "code",
   "execution_count": 1,
   "id": "09c23377-b201-49b9-9306-01532e7d619c",
   "metadata": {},
   "outputs": [
    {
     "name": "stdout",
     "output_type": "stream",
     "text": [
      "Simple Calculation\n",
      "1. Add\n",
      "2. Subtract\n",
      "3. Multiply\n",
      "4. divide\n"
     ]
    }
   ],
   "source": [
    "def add(x,y):\n",
    "    return x+y\n",
    "\n",
    "def subtract(x,y):\n",
    "    return x-y\n",
    "\n",
    "def multiply(x,y):\n",
    "    return x*y\n",
    "\n",
    "def divide(x,y):\n",
    "    return x/y\n",
    "\n",
    "print(\"Simple Calculation\")\n",
    "print(\"1. Add\")\n",
    "print(\"2. Subtract\")\n",
    "print(\"3. Multiply\")\n",
    "print(\"4. divide\")\n"
   ]
  },
  {
   "cell_type": "code",
   "execution_count": null,
   "id": "5a0d9237-076e-42d9-9de1-fa62bb80b486",
   "metadata": {},
   "outputs": [
    {
     "name": "stdout",
     "output_type": "stream",
     "text": [
      "Simple Calculation\n",
      "1. Add\n",
      "2. Subtract\n",
      "3. Multiply\n",
      "4. divide\n"
     ]
    }
   ],
   "source": [
    "def add(x,y):\n",
    "    return x+y\n",
    "\n",
    "def subtract(x,y):\n",
    "    return x-y\n",
    "\n",
    "def multiply(x,y):\n",
    "    return x*y\n",
    "\n",
    "def divide(x,y):\n",
    "    return x/y\n",
    "\n",
    "print(\"Simple Calculation\")\n",
    "print(\"1. Add\")\n",
    "print(\"2. Subtract\")\n",
    "print(\"3. Multiply\")\n",
    "print(\"4. divide\")\n",
    "\n",
    "choice = input(\"select option (1-4)\")"
   ]
  },
  {
   "cell_type": "code",
   "execution_count": 6,
   "id": "210f208b-d58b-41ec-823b-40dd2e7a2c59",
   "metadata": {},
   "outputs": [
    {
     "name": "stdout",
     "output_type": "stream",
     "text": [
      "Simple Calculation\n",
      "1. Add\n",
      "2. Subtract\n",
      "3. Multiply\n",
      "4. divide\n"
     ]
    },
    {
     "name": "stdin",
     "output_type": "stream",
     "text": [
      "select option (1-4) f\n",
      "enter the first number:  f\n"
     ]
    },
    {
     "name": "stdout",
     "output_type": "stream",
     "text": [
      "invalid input\n",
      "invalid\n"
     ]
    }
   ],
   "source": [
    "def add(x,y):\n",
    "    return x+y\n",
    "\n",
    "def subtract(x,y):\n",
    "    return x-y\n",
    "\n",
    "def multiply(x,y):\n",
    "    return x*y\n",
    "\n",
    "def divide(x,y):\n",
    "    return x/y\n",
    "\n",
    "print(\"Simple Calculation\")\n",
    "print(\"1. Add\")\n",
    "print(\"2. Subtract\")\n",
    "print(\"3. Multiply\")\n",
    "print(\"4. divide\")\n",
    "\n",
    "choice = input(\"select option (1-4)\")\n",
    "\n",
    "try:\n",
    "    num1 = float(input(\"enter the first number: \"))\n",
    "    num2 = float(input(\"enter the second number: \"))\n",
    "except ValueError:\n",
    "    print(\"invalid input\")\n",
    "    exit()\n",
    "if choice == \"1\":\n",
    "    print(f\"{num1} + {num2} = {add(num1, num2)}\")\n",
    "elif choice == \"2\":\n",
    "    print(f\"{num1} - {num2} = {subtract(num1, num2)}\")\n",
    "elif choice == \"3\":\n",
    "    print(f\"{num1} * {num2} = {multiply(num1, num2)}\")\n",
    "elif choice == \"4\":\n",
    "    print(f\"{num1} / {num2} = {divide(num1, num2)}\")\n",
    "else:\n",
    "    print(\"invalid\")\n",
    "    "
   ]
  },
  {
   "cell_type": "code",
   "execution_count": null,
   "id": "64fbccfa-3f8b-4f4e-9c56-ac8a15873c0d",
   "metadata": {},
   "outputs": [],
   "source": []
  },
  {
   "cell_type": "code",
   "execution_count": null,
   "id": "284d2569-d9a8-455f-a493-b4c56a6727c4",
   "metadata": {},
   "outputs": [],
   "source": []
  },
  {
   "cell_type": "code",
   "execution_count": null,
   "id": "947bae5b-8816-427e-b316-3b1dfa4aabd1",
   "metadata": {},
   "outputs": [],
   "source": []
  },
  {
   "cell_type": "code",
   "execution_count": null,
   "id": "a62c54aa-64a2-4e08-99d5-d040b6434185",
   "metadata": {},
   "outputs": [],
   "source": []
  },
  {
   "cell_type": "code",
   "execution_count": null,
   "id": "795aeef8-5493-4d72-99a9-af0d46309497",
   "metadata": {},
   "outputs": [],
   "source": []
  },
  {
   "cell_type": "code",
   "execution_count": null,
   "id": "8fe53adf-2cfe-4b21-94f7-c8afc2002b48",
   "metadata": {},
   "outputs": [],
   "source": []
  },
  {
   "cell_type": "code",
   "execution_count": null,
   "id": "b96a3ea3-c636-4d88-9cae-9d1a8adabbfd",
   "metadata": {},
   "outputs": [],
   "source": []
  },
  {
   "cell_type": "code",
   "execution_count": null,
   "id": "4a046a2c-7c8e-4109-aadb-5575d11bbf4d",
   "metadata": {},
   "outputs": [],
   "source": []
  },
  {
   "cell_type": "code",
   "execution_count": null,
   "id": "e28eb9c9-b74b-4bca-bc92-b08244d03cb6",
   "metadata": {},
   "outputs": [],
   "source": []
  }
 ],
 "metadata": {
  "kernelspec": {
   "display_name": "anaconda-panel-2023.05-py310",
   "language": "python",
   "name": "conda-env-anaconda-panel-2023.05-py310-py"
  },
  "language_info": {
   "codemirror_mode": {
    "name": "ipython",
    "version": 3
   },
   "file_extension": ".py",
   "mimetype": "text/x-python",
   "name": "python",
   "nbconvert_exporter": "python",
   "pygments_lexer": "ipython3",
   "version": "3.11.5"
  }
 },
 "nbformat": 4,
 "nbformat_minor": 5
}
