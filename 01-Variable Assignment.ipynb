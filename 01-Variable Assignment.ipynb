{
 "cells": [
  {
   "cell_type": "markdown",
   "id": "d48900fb-5c7e-480d-ba4a-e965f229ebd4",
   "metadata": {},
   "source": [
    "___\n",
    "\n",
    "<a href='https://www.youtube.com/@TechWithDaveworld'><img src='../TechWithDaveworldLogo.png'/></a>\n",
    "___\n",
    "<center><em>Content Copyright by Tech With Daveworld</em></center>"
   ]
  },
  {
   "cell_type": "markdown",
   "id": "01117dbc-800e-4e64-b45d-c38c020b6f74",
   "metadata": {},
   "source": [
    "# Variable Assignment\n",
    "\n",
    "## Rules for variable names\n",
    "* names can not start with a number\n",
    "* names can not contain spaces, use _ intead\n",
    "* names can not contain any of these symbols:\n",
    "\n",
    "      :'\",<>/?|\\!@#%^&*~-+\n",
    "       \n",
    "* it's considered best practice ([PEP8](https://www.python.org/dev/peps/pep-0008/#function-and-variable-names)) that names are lowercase with underscores\n",
    "* avoid using Python built-in keywords like `list` and `str`\n",
    "* avoid using the single characters `l` (lowercase letter el), `O` (uppercase letter oh) and `I` (uppercase letter eye) as they can be confused with `1` and `0`"
   ]
  },
  {
   "cell_type": "markdown",
   "id": "75cda4ba-f652-4f48-a90c-39f273dcb8e5",
   "metadata": {},
   "source": [
    "## Dynamic Typing\n",
    "\n",
    "Python uses *dynamic typing*, meaning you can reassign variables to different data types. This makes Python very flexible in assigning data types; it differs from other languages that are *statically typed*."
   ]
  },
  {
   "cell_type": "code",
   "execution_count": 7,
   "id": "f7e979c8-a64a-4572-a2a6-6a723d9befe7",
   "metadata": {},
   "outputs": [],
   "source": [
    "my_dogs = 2"
   ]
  },
  {
   "cell_type": "code",
   "execution_count": 9,
   "id": "e71bf4f0-9c2c-40cc-a2a2-cf805ef3e0ff",
   "metadata": {},
   "outputs": [
    {
     "data": {
      "text/plain": [
       "2"
      ]
     },
     "execution_count": 9,
     "metadata": {},
     "output_type": "execute_result"
    }
   ],
   "source": [
    "my_dogs"
   ]
  },
  {
   "cell_type": "code",
   "execution_count": 11,
   "id": "3b091f2b-b3da-4dba-a6c7-51cc5cb56e96",
   "metadata": {},
   "outputs": [],
   "source": [
    "# reassign\n",
    "my_dogs = [\"sammy\", \"Frankie\"]"
   ]
  },
  {
   "cell_type": "code",
   "execution_count": 13,
   "id": "f0ebc56b-07fa-4a97-86cc-0b17946471dd",
   "metadata": {},
   "outputs": [
    {
     "data": {
      "text/plain": [
       "['sammy', 'Frankie']"
      ]
     },
     "execution_count": 13,
     "metadata": {},
     "output_type": "execute_result"
    }
   ],
   "source": [
    "my_dogs"
   ]
  },
  {
   "cell_type": "markdown",
   "id": "5b238cea-f9c1-4396-bd82-93a71c6458ee",
   "metadata": {},
   "source": [
    "### Pros and Cons of Dynamic Typing\n",
    "#### Pros of Dynamic Typing\n",
    "* very easy to work with\n",
    "* faster development time\n",
    "\n",
    "#### Cons of Dynamic Typing\n",
    "* may result in unexpected bugs!\n",
    "* you need to be aware of `type()`\n",
    "\n"
   ]
  },
  {
   "cell_type": "code",
   "execution_count": 16,
   "id": "d176f4cb-aa1e-4e37-b4b6-d6ca85e70eb3",
   "metadata": {},
   "outputs": [
    {
     "data": {
      "text/plain": [
       "list"
      ]
     },
     "execution_count": 16,
     "metadata": {},
     "output_type": "execute_result"
    }
   ],
   "source": [
    "type(my_dogs)"
   ]
  },
  {
   "cell_type": "markdown",
   "id": "06f494d7-f563-4855-bcb6-f436f485fa7c",
   "metadata": {},
   "source": [
    "## Assigning Variables\n",
    "Variable assignment follows `name = object`, where a single equals sign `=` is an *assignment operator*"
   ]
  },
  {
   "cell_type": "code",
   "execution_count": 19,
   "id": "f27ee64d-0a7d-422e-b892-7d99518ea3ec",
   "metadata": {},
   "outputs": [],
   "source": [
    "a = 5"
   ]
  },
  {
   "cell_type": "code",
   "execution_count": 21,
   "id": "8c74f40a-b95a-4638-9720-aee2f8793324",
   "metadata": {},
   "outputs": [
    {
     "data": {
      "text/plain": [
       "5"
      ]
     },
     "execution_count": 21,
     "metadata": {},
     "output_type": "execute_result"
    }
   ],
   "source": [
    "a"
   ]
  },
  {
   "cell_type": "code",
   "execution_count": 23,
   "id": "3ba39452-13f7-4ce9-a6c7-bd322a75c91e",
   "metadata": {},
   "outputs": [],
   "source": [
    "a = a + 5"
   ]
  },
  {
   "cell_type": "code",
   "execution_count": 25,
   "id": "71b1c3a5-6b5f-4554-a1dd-b3d9c1b350a7",
   "metadata": {},
   "outputs": [
    {
     "data": {
      "text/plain": [
       "10"
      ]
     },
     "execution_count": 25,
     "metadata": {},
     "output_type": "execute_result"
    }
   ],
   "source": [
    "a"
   ]
  },
  {
   "cell_type": "code",
   "execution_count": 27,
   "id": "3c8666a2-bd80-493d-b02f-b99448e1e6bf",
   "metadata": {},
   "outputs": [
    {
     "data": {
      "text/plain": [
       "int"
      ]
     },
     "execution_count": 27,
     "metadata": {},
     "output_type": "execute_result"
    }
   ],
   "source": [
    "type(a)"
   ]
  },
  {
   "cell_type": "markdown",
   "id": "30fca5e0-208c-48c2-95b8-d92c599bedb9",
   "metadata": {},
   "source": [
    "There's actually a shortcut for this. Python lets you add, subtract, multiply and divide numbers with reassignment using `+=`, `-=`, `*=`, and `/=`."
   ]
  },
  {
   "cell_type": "code",
   "execution_count": 30,
   "id": "20142e25-a10c-4e21-8a0f-b60f313a3746",
   "metadata": {},
   "outputs": [
    {
     "data": {
      "text/plain": [
       "10"
      ]
     },
     "execution_count": 30,
     "metadata": {},
     "output_type": "execute_result"
    }
   ],
   "source": [
    "a"
   ]
  },
  {
   "cell_type": "code",
   "execution_count": 40,
   "id": "1a5149ba-19ac-4263-8a75-e89d48955a38",
   "metadata": {},
   "outputs": [],
   "source": [
    "a += 10 # a = a + 10"
   ]
  },
  {
   "cell_type": "code",
   "execution_count": 42,
   "id": "7ffdec44-3042-4e29-b535-d51b875abc5b",
   "metadata": {},
   "outputs": [
    {
     "data": {
      "text/plain": [
       "20"
      ]
     },
     "execution_count": 42,
     "metadata": {},
     "output_type": "execute_result"
    }
   ],
   "source": [
    "a"
   ]
  },
  {
   "cell_type": "code",
   "execution_count": 34,
   "id": "8c61591f-46ba-4b51-bede-2d2e89ae24a1",
   "metadata": {},
   "outputs": [],
   "source": [
    "b = 3"
   ]
  },
  {
   "cell_type": "code",
   "execution_count": 36,
   "id": "636a8cba-2ef3-49bb-85a5-a9b146ea0623",
   "metadata": {},
   "outputs": [],
   "source": [
    "b += 2"
   ]
  },
  {
   "cell_type": "code",
   "execution_count": 38,
   "id": "c6100aea-42db-474b-9035-a4661e3f5c90",
   "metadata": {},
   "outputs": [
    {
     "data": {
      "text/plain": [
       "5"
      ]
     },
     "execution_count": 38,
     "metadata": {},
     "output_type": "execute_result"
    }
   ],
   "source": [
    "b"
   ]
  },
  {
   "cell_type": "markdown",
   "id": "8ee90324-e217-4973-a7b8-5ab0ee70033b",
   "metadata": {},
   "source": [
    "## Determining variable type with `type()`\n",
    "You can check what type of object is assigned to a variable using Python's built-in `type()` function. Common data types include:\n",
    "* **int** (for integer)\n",
    "* **float**\n",
    "* **str** (for string)\n",
    "* **list**\n",
    "* **tuple**\n",
    "* **dict** (for dictionary)\n",
    "* **set**\n",
    "* **bool** (for Boolean True/False)"
   ]
  },
  {
   "cell_type": "code",
   "execution_count": 45,
   "id": "e9383972-b3c1-4f9e-b499-7889006acbb1",
   "metadata": {},
   "outputs": [],
   "source": [
    "gpa = 5.0"
   ]
  },
  {
   "cell_type": "code",
   "execution_count": 47,
   "id": "9d1f0e23-e780-4c65-867f-2bcd004d64f7",
   "metadata": {},
   "outputs": [
    {
     "data": {
      "text/plain": [
       "float"
      ]
     },
     "execution_count": 47,
     "metadata": {},
     "output_type": "execute_result"
    }
   ],
   "source": [
    "type(gpa)"
   ]
  },
  {
   "cell_type": "code",
   "execution_count": 49,
   "id": "14111989-dd2f-4a8d-b369-de3a5f8229cc",
   "metadata": {},
   "outputs": [],
   "source": [
    "salary = 30000"
   ]
  },
  {
   "cell_type": "code",
   "execution_count": 51,
   "id": "51243181-e02c-40bb-a43a-d430795feb4c",
   "metadata": {},
   "outputs": [
    {
     "data": {
      "text/plain": [
       "int"
      ]
     },
     "execution_count": 51,
     "metadata": {},
     "output_type": "execute_result"
    }
   ],
   "source": [
    "type(salary)"
   ]
  },
  {
   "cell_type": "markdown",
   "id": "ce847420-2158-49a7-9b77-76ef4d60f1bc",
   "metadata": {},
   "source": [
    "() -> Parenthesis\n",
    "[] -> Square bracket\n",
    "{} -> Curly\n",
    "<> -> Angular bracket"
   ]
  }
 ],
 "metadata": {
  "kernelspec": {
   "display_name": "Python 3 (ipykernel)",
   "language": "python",
   "name": "python3"
  },
  "language_info": {
   "codemirror_mode": {
    "name": "ipython",
    "version": 3
   },
   "file_extension": ".py",
   "mimetype": "text/x-python",
   "name": "python",
   "nbconvert_exporter": "python",
   "pygments_lexer": "ipython3",
   "version": "3.12.7"
  }
 },
 "nbformat": 4,
 "nbformat_minor": 5
}
