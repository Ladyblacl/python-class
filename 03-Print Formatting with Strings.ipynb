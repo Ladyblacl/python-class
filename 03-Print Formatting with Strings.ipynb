{
 "cells": [
  {
   "cell_type": "markdown",
   "id": "4e480a88-1e93-4922-a483-3b0aca8dae14",
   "metadata": {},
   "source": [
    "___\n",
    "\n",
    "<a href='https://www.youtube.com/@TechWithDaveworld'><img src='../TechWithDaveworldLogo.png'/></a>\n",
    "___ \n",
    "<center><em>Content Copyright by Tech With Daveworld</em></center>"
   ]
  },
  {
   "cell_type": "markdown",
   "id": "b690e371-ceec-42ca-a775-b2221b2c12dd",
   "metadata": {},
   "source": [
    "# String Formatting"
   ]
  },
  {
   "cell_type": "markdown",
   "id": "2311bd75-a99e-424d-a752-199b1effbe59",
   "metadata": {},
   "source": [
    "## Using .format() method"
   ]
  },
  {
   "cell_type": "code",
   "execution_count": 3,
   "id": "9c2929dd-bef4-4c86-8962-de8e6bb1cf59",
   "metadata": {},
   "outputs": [
    {
     "name": "stdout",
     "output_type": "stream",
     "text": [
      "This is a string with an insert\n"
     ]
    }
   ],
   "source": [
    "print(\"This is a string with an {}\".format(\"insert\"))"
   ]
  },
  {
   "cell_type": "code",
   "execution_count": 5,
   "id": "e7ffebc8-3b1d-4a20-bce6-eff26cf67bf1",
   "metadata": {},
   "outputs": [
    {
     "name": "stdout",
     "output_type": "stream",
     "text": [
      "First Object 1, Second Object: Two, Third Object12.3\n"
     ]
    }
   ],
   "source": [
    "print(\"First Object {a}, Second Object: {b}, Third Object{c}\".format(a=1, b=\"Two\", c=12.3))"
   ]
  },
  {
   "cell_type": "markdown",
   "id": "36618b6b-be6d-4e2e-9821-9ea6d92248ad",
   "metadata": {},
   "source": [
    "## Using Formated String Literals (f-strings)"
   ]
  },
  {
   "cell_type": "code",
   "execution_count": 8,
   "id": "2d52902c-0066-4e55-bfc0-19efdc68ff66",
   "metadata": {},
   "outputs": [
    {
     "name": "stdout",
     "output_type": "stream",
     "text": [
      "He said his name is Daveworld.\n"
     ]
    }
   ],
   "source": [
    "name = \"Daveworld\"\n",
    "\n",
    "print(f\"He said his name is {name}.\")"
   ]
  },
  {
   "cell_type": "code",
   "execution_count": 10,
   "id": "0e0916a3-2197-4c0b-a179-5a9d6927fe56",
   "metadata": {},
   "outputs": [],
   "source": [
    "age = 30\n",
    "cgpa = 5.0"
   ]
  },
  {
   "cell_type": "code",
   "execution_count": 12,
   "id": "f908a255-aba7-4a7e-81fa-3a03f65f0798",
   "metadata": {},
   "outputs": [
    {
     "data": {
      "text/plain": [
       "30"
      ]
     },
     "execution_count": 12,
     "metadata": {},
     "output_type": "execute_result"
    }
   ],
   "source": [
    "age"
   ]
  },
  {
   "cell_type": "code",
   "execution_count": 14,
   "id": "fcf22d59-20d0-44a7-a96e-7df8ecd3b9a0",
   "metadata": {},
   "outputs": [
    {
     "data": {
      "text/plain": [
       "5.0"
      ]
     },
     "execution_count": 14,
     "metadata": {},
     "output_type": "execute_result"
    }
   ],
   "source": [
    "cgpa"
   ]
  },
  {
   "cell_type": "code",
   "execution_count": 16,
   "id": "d2223ce2-8529-438a-880c-57a934f95ef2",
   "metadata": {},
   "outputs": [
    {
     "name": "stdout",
     "output_type": "stream",
     "text": [
      "Daveworld is 30years and he has a cgpa of 5.0 in is 100L first semester\n"
     ]
    }
   ],
   "source": [
    "print(f\"{name} is {age}years and he has a cgpa of {cgpa} in is 100L first semester\")"
   ]
  },
  {
   "cell_type": "markdown",
   "id": "8f83f118-9549-4f36-88e6-5dd24d8df7b3",
   "metadata": {},
   "source": [
    "## Using Concatenation method"
   ]
  },
  {
   "cell_type": "code",
   "execution_count": 27,
   "id": "7112cd5b-d383-49e5-8631-b0e766ca4e7a",
   "metadata": {},
   "outputs": [
    {
     "name": "stdout",
     "output_type": "stream",
     "text": [
      "Daveworld is 30years and he has a cgpa of 5.0 in is 100L first semester\n"
     ]
    }
   ],
   "source": [
    "print(name + \" is \" + str(age) + \"years and he has a cgpa of \" + str(cgpa) + \" in is 100L first semester\")"
   ]
  },
  {
   "cell_type": "code",
   "execution_count": null,
   "id": "a09422bf-5ebe-4818-b15b-5df2fe8bc6db",
   "metadata": {},
   "outputs": [],
   "source": []
  }
 ],
 "metadata": {
  "kernelspec": {
   "display_name": "Python 3 (ipykernel)",
   "language": "python",
   "name": "python3"
  },
  "language_info": {
   "codemirror_mode": {
    "name": "ipython",
    "version": 3
   },
   "file_extension": ".py",
   "mimetype": "text/x-python",
   "name": "python",
   "nbconvert_exporter": "python",
   "pygments_lexer": "ipython3",
   "version": "3.12.7"
  }
 },
 "nbformat": 4,
 "nbformat_minor": 5
}
