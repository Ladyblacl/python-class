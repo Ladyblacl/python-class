{
 "cells": [
  {
   "cell_type": "markdown",
   "id": "c2116bfb-2128-4524-889e-46c697e89b93",
   "metadata": {},
   "source": [
    "# Sets and Booleans"
   ]
  },
  {
   "cell_type": "code",
   "execution_count": 2,
   "id": "ac9a53ee-1337-40bb-9d0b-432400e5b853",
   "metadata": {},
   "outputs": [],
   "source": [
    "x = set()"
   ]
  },
  {
   "cell_type": "code",
   "execution_count": 4,
   "id": "5d339705-943e-421e-aea6-15ad1295411a",
   "metadata": {},
   "outputs": [],
   "source": [
    "x.add(1)"
   ]
  },
  {
   "cell_type": "code",
   "execution_count": 5,
   "id": "0cd7e5d8-6959-4773-a541-fd56ed4836ee",
   "metadata": {},
   "outputs": [
    {
     "data": {
      "text/plain": [
       "{1}"
      ]
     },
     "execution_count": 5,
     "metadata": {},
     "output_type": "execute_result"
    }
   ],
   "source": [
    "x"
   ]
  },
  {
   "cell_type": "code",
   "execution_count": 6,
   "id": "918b17e1-7be0-4e30-b713-256c9f612b0f",
   "metadata": {},
   "outputs": [],
   "source": [
    "x.add(2)"
   ]
  },
  {
   "cell_type": "code",
   "execution_count": 7,
   "id": "d18902b8-d497-4cbd-8fa2-a94eed0dc8bc",
   "metadata": {},
   "outputs": [
    {
     "data": {
      "text/plain": [
       "{1, 2}"
      ]
     },
     "execution_count": 7,
     "metadata": {},
     "output_type": "execute_result"
    }
   ],
   "source": [
    "x"
   ]
  },
  {
   "cell_type": "code",
   "execution_count": 11,
   "id": "8823cf7e-91f3-4e26-8280-fb175f841921",
   "metadata": {},
   "outputs": [],
   "source": [
    "list1 = [1,1,1,1,5,5,5,2,2,2,8,8,8,654]"
   ]
  },
  {
   "cell_type": "code",
   "execution_count": 12,
   "id": "691f0003-6097-4a31-a25e-649e957c5f96",
   "metadata": {},
   "outputs": [
    {
     "data": {
      "text/plain": [
       "{1, 2, 5, 8, 654}"
      ]
     },
     "execution_count": 12,
     "metadata": {},
     "output_type": "execute_result"
    }
   ],
   "source": [
    "set(list1)"
   ]
  },
  {
   "cell_type": "code",
   "execution_count": null,
   "id": "d103b914-06e1-4921-810a-abb3b2628cdf",
   "metadata": {},
   "outputs": [],
   "source": []
  },
  {
   "cell_type": "markdown",
   "id": "48ac1655-7dd0-4887-8ea0-79fe8ff77ab4",
   "metadata": {},
   "source": [
    "# Booleans"
   ]
  },
  {
   "cell_type": "code",
   "execution_count": 13,
   "id": "87b965d7-7f53-457e-8fe8-244c68a728f2",
   "metadata": {},
   "outputs": [],
   "source": [
    "a = True"
   ]
  },
  {
   "cell_type": "code",
   "execution_count": 14,
   "id": "6d94f004-e7e5-4767-bf5e-c1ee24b7408a",
   "metadata": {},
   "outputs": [
    {
     "data": {
      "text/plain": [
       "True"
      ]
     },
     "execution_count": 14,
     "metadata": {},
     "output_type": "execute_result"
    }
   ],
   "source": [
    "1<3"
   ]
  },
  {
   "cell_type": "code",
   "execution_count": 15,
   "id": "c0fe0298-fd62-4b34-993b-40dfad26e573",
   "metadata": {},
   "outputs": [
    {
     "name": "stdout",
     "output_type": "stream",
     "text": [
      "1 is lesser than 2\n"
     ]
    }
   ],
   "source": [
    "if 1 > 2:\n",
    "    print(\"1 is greater than 2\")\n",
    "else:\n",
    "    print(\"1 is lesser than 2\")"
   ]
  },
  {
   "cell_type": "code",
   "execution_count": 17,
   "id": "bfa0d20a-9f26-4630-ac9e-8968295698ff",
   "metadata": {},
   "outputs": [],
   "source": [
    "b = None"
   ]
  },
  {
   "cell_type": "code",
   "execution_count": 18,
   "id": "683bb90e-b96c-40e3-8fdd-f3e71fe245ef",
   "metadata": {},
   "outputs": [
    {
     "name": "stdout",
     "output_type": "stream",
     "text": [
      "None\n"
     ]
    }
   ],
   "source": [
    "print(b)"
   ]
  },
  {
   "cell_type": "code",
   "execution_count": null,
   "id": "160f890c-ef4b-40b4-95ac-e5e4b6d22744",
   "metadata": {},
   "outputs": [],
   "source": []
  },
  {
   "cell_type": "code",
   "execution_count": null,
   "id": "09e16c10-e79f-4545-98e9-e9241560fb31",
   "metadata": {},
   "outputs": [],
   "source": []
  },
  {
   "cell_type": "code",
   "execution_count": null,
   "id": "fbe5ec19-2e37-40de-9d47-de09117bb521",
   "metadata": {},
   "outputs": [],
   "source": []
  },
  {
   "cell_type": "code",
   "execution_count": null,
   "id": "d1fda49f-2790-4b9a-85bd-3a882742ba39",
   "metadata": {},
   "outputs": [],
   "source": []
  }
 ],
 "metadata": {
  "kernelspec": {
   "display_name": "anaconda-panel-2023.05-py310",
   "language": "python",
   "name": "conda-env-anaconda-panel-2023.05-py310-py"
  },
  "language_info": {
   "codemirror_mode": {
    "name": "ipython",
    "version": 3
   },
   "file_extension": ".py",
   "mimetype": "text/x-python",
   "name": "python",
   "nbconvert_exporter": "python",
   "pygments_lexer": "ipython3",
   "version": "3.11.5"
  }
 },
 "nbformat": 4,
 "nbformat_minor": 5
}
