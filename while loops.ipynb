{
 "cells": [
  {
   "cell_type": "code",
   "execution_count": 1,
   "id": "39147481-e2e3-47b2-92f4-5edba55a2a22",
   "metadata": {
    "scrolled": true
   },
   "outputs": [
    {
     "name": "stdout",
     "output_type": "stream",
     "text": [
      "x is currently: 0\n",
      "x is still less than 10 adding 1 to x\n",
      "x is currently: 1\n",
      "x is still less than 10 adding 1 to x\n",
      "x is currently: 2\n",
      "x is still less than 10 adding 1 to x\n",
      "x is currently: 3\n",
      "x is still less than 10 adding 1 to x\n",
      "x is currently: 4\n",
      "x is still less than 10 adding 1 to x\n",
      "x is currently: 5\n",
      "x is still less than 10 adding 1 to x\n",
      "x is currently: 6\n",
      "x is still less than 10 adding 1 to x\n",
      "x is currently: 7\n",
      "x is still less than 10 adding 1 to x\n",
      "x is currently: 8\n",
      "x is still less than 10 adding 1 to x\n",
      "x is currently: 9\n",
      "x is still less than 10 adding 1 to x\n"
     ]
    }
   ],
   "source": [
    "x = 0\n",
    "while x < 10:\n",
    "    print(\"x is currently:\", x)\n",
    "    print(\"x is still less than 10 adding 1 to x\")\n",
    "    x += 1"
   ]
  },
  {
   "cell_type": "markdown",
   "id": "9ccf28d4-e5cb-4cef-b175-92802d311e83",
   "metadata": {},
   "source": [
    "# Multiplication Table 5"
   ]
  },
  {
   "cell_type": "code",
   "execution_count": 8,
   "id": "eea50343-81d4-4818-9b52-0d3da6789194",
   "metadata": {},
   "outputs": [
    {
     "name": "stdout",
     "output_type": "stream",
     "text": [
      "5 * 1 = 5\n",
      "5 * 2 = 10\n",
      "5 * 3 = 15\n",
      "5 * 4 = 20\n",
      "5 * 5 = 25\n",
      "5 * 6 = 30\n",
      "5 * 7 = 35\n",
      "5 * 8 = 40\n",
      "5 * 9 = 45\n",
      "5 * 10 = 50\n",
      "5 * 11 = 55\n",
      "5 * 12 = 60\n"
     ]
    }
   ],
   "source": [
    "mul = 5\n",
    "max_num =12\n",
    "start_point = 1\n",
    "\n",
    "while start_point <= max_num:\n",
    "    ans = mul * start_point\n",
    "    print(f\"{mul} * {start_point} = {ans}\")\n",
    "    start_point += 1"
   ]
  },
  {
   "cell_type": "markdown",
   "id": "e7edc295-b232-4640-8542-b840f7e7e82a",
   "metadata": {},
   "source": [
    "# break and continue"
   ]
  },
  {
   "cell_type": "code",
   "execution_count": 9,
   "id": "b616231d-7639-4521-a7ea-e92bc120bd55",
   "metadata": {},
   "outputs": [
    {
     "name": "stdout",
     "output_type": "stream",
     "text": [
      "x is currently 0\n",
      "x is still less than 10, adding 1 to x\n",
      "continue\n",
      "x is currently 1\n",
      "x is still less than 10, adding 1 to x\n",
      "continue\n",
      "x is currently 2\n",
      "x is still less than 10, adding 1 to x\n",
      "x==3\n",
      "x is currently 3\n",
      "x is still less than 10, adding 1 to x\n",
      "continue\n",
      "x is currently 4\n",
      "x is still less than 10, adding 1 to x\n",
      "continue\n",
      "x is currently 5\n",
      "x is still less than 10, adding 1 to x\n",
      "continue\n",
      "x is currently 6\n",
      "x is still less than 10, adding 1 to x\n",
      "continue\n",
      "x is currently 7\n",
      "x is still less than 10, adding 1 to x\n",
      "continue\n",
      "x is currently 8\n",
      "x is still less than 10, adding 1 to x\n",
      "continue\n",
      "x is currently 9\n",
      "x is still less than 10, adding 1 to x\n",
      "continue\n"
     ]
    }
   ],
   "source": [
    "x = 0\n",
    "while x < 10:\n",
    "    print(\"x is currently\", x)\n",
    "    print(\"x is still less than 10, adding 1 to x\")\n",
    "    x += 1\n",
    "    if x == 3:\n",
    "        print(\"x==3\")\n",
    "    else:\n",
    "        print(\"continue\")\n",
    "    \n",
    "    "
   ]
  },
  {
   "cell_type": "code",
   "execution_count": 10,
   "id": "5ff8018d-d02d-46c5-93d6-c2fe863df029",
   "metadata": {},
   "outputs": [
    {
     "name": "stdout",
     "output_type": "stream",
     "text": [
      "x is currently 0\n",
      "x is still less than 10, adding 1 to x\n",
      "continue\n",
      "x is currently 1\n",
      "x is still less than 10, adding 1 to x\n",
      "continue\n",
      "x is currently 2\n",
      "x is still less than 10, adding 1 to x\n",
      "x==3\n"
     ]
    }
   ],
   "source": [
    "x = 0\n",
    "while x < 10:\n",
    "    print(\"x is currently\", x)\n",
    "    print(\"x is still less than 10, adding 1 to x\")\n",
    "    x += 1\n",
    "    if x == 3:\n",
    "        print(\"x==3\")\n",
    "        break\n",
    "    else:\n",
    "        print(\"continue\")\n",
    "    "
   ]
  },
  {
   "cell_type": "code",
   "execution_count": null,
   "id": "1635bd29-d3d3-4cd0-a8a5-9463e79d1e9f",
   "metadata": {},
   "outputs": [],
   "source": []
  },
  {
   "cell_type": "code",
   "execution_count": null,
   "id": "c9d5c412-55d2-447f-bd9b-4b27077740f5",
   "metadata": {},
   "outputs": [],
   "source": []
  },
  {
   "cell_type": "code",
   "execution_count": null,
   "id": "2b761aff-b35b-4254-bcc1-a139be2ad8b2",
   "metadata": {},
   "outputs": [],
   "source": []
  },
  {
   "cell_type": "code",
   "execution_count": null,
   "id": "d664ee00-c009-4042-bbae-586f5166bc81",
   "metadata": {},
   "outputs": [],
   "source": []
  },
  {
   "cell_type": "code",
   "execution_count": null,
   "id": "7ccbd9da-6ecf-4223-9584-fff087bc0a64",
   "metadata": {},
   "outputs": [],
   "source": []
  }
 ],
 "metadata": {
  "kernelspec": {
   "display_name": "anaconda-panel-2023.05-py310",
   "language": "python",
   "name": "conda-env-anaconda-panel-2023.05-py310-py"
  },
  "language_info": {
   "codemirror_mode": {
    "name": "ipython",
    "version": 3
   },
   "file_extension": ".py",
   "mimetype": "text/x-python",
   "name": "python",
   "nbconvert_exporter": "python",
   "pygments_lexer": "ipython3",
   "version": "3.11.5"
  }
 },
 "nbformat": 4,
 "nbformat_minor": 5
}
